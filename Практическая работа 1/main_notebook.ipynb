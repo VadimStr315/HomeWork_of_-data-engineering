{
 "cells": [
  {
   "cell_type": "markdown",
   "metadata": {},
   "source": [
    "# Вариант 55 Стрельцов Вадим Вадимович"
   ]
  },
  {
   "cell_type": "code",
   "execution_count": 247,
   "metadata": {},
   "outputs": [],
   "source": [
    "import os\n",
    "import re\n",
    "import csv\n",
    "import math \n",
    "\n",
    "import requests\n",
    "import pandas as pd"
   ]
  },
  {
   "cell_type": "markdown",
   "metadata": {},
   "source": [
    "## Задание 1"
   ]
  },
  {
   "cell_type": "code",
   "execution_count": 248,
   "metadata": {},
   "outputs": [],
   "source": [
    "# чтение из файла\n",
    "def read_file(path):\n",
    "    with open(path, encoding='utf-8') as file:\n",
    "        lines = file.readlines()\n",
    "    return lines"
   ]
  },
  {
   "cell_type": "code",
   "execution_count": 249,
   "metadata": {},
   "outputs": [],
   "source": [
    "# сохранение в файл\n",
    "def save_file(path, word_counts):\n",
    "    with open(path, 'w', encoding='utf-8') as file:\n",
    "        for word, freq in word_counts.items():\n",
    "            file.write(f\"{word}:{freq}\\n\")\n",
    "    print('Saving True')"
   ]
  },
  {
   "cell_type": "code",
   "execution_count": 250,
   "metadata": {},
   "outputs": [],
   "source": [
    "# функция отчистки строки от спец. символов\n",
    "def remove_symbols(input_string):\n",
    "    symbols = \"'!@#$%^&**().,/?/*;:`~\\n\"\n",
    "    pattern = f\"[{re.escape(symbols)}]\"\n",
    "    return re.sub(pattern, '', input_string)"
   ]
  },
  {
   "cell_type": "code",
   "execution_count": 251,
   "metadata": {},
   "outputs": [],
   "source": [
    "# функция обработки списка строк\n",
    "def modify_list(lines):\n",
    "    modified_lines = [remove_symbols(line).replace('-',' ').lower() for line in lines]\n",
    "    modified_lines_lists = [line.split(' ') for line in modified_lines]\n",
    "    words_list = [word for line in modified_lines_lists for word in line]\n",
    "    return words_list"
   ]
  },
  {
   "cell_type": "markdown",
   "metadata": {},
   "source": [
    "### Задание 1 (основная часть)"
   ]
  },
  {
   "cell_type": "code",
   "execution_count": 252,
   "metadata": {},
   "outputs": [],
   "source": [
    "# функция подсчета слов\n",
    "def count_words(words_list):\n",
    "    words = {}\n",
    "    for word in set(words_list):\n",
    "        if word not in words and word != '':        \n",
    "            words[word] = words_list.count(word)\n",
    "    sorted_dict = dict(sorted(words.items(), key=lambda item: item[1], reverse=True)) # сортировка слов\n",
    "    return sorted_dict"
   ]
  },
  {
   "cell_type": "code",
   "execution_count": 253,
   "metadata": {},
   "outputs": [],
   "source": [
    "# основная функция\n",
    "def task1():\n",
    "    path = './55/first_task.txt'\n",
    "    lines = read_file(path)\n",
    "    modified_lines = modify_list(lines)\n",
    "    result_dict = count_words(modified_lines)\n",
    "    print(result_dict)\n",
    "    save_file('Answers/task1_main.txt', result_dict)"
   ]
  },
  {
   "cell_type": "code",
   "execution_count": 254,
   "metadata": {},
   "outputs": [
    {
     "name": "stdout",
     "output_type": "stream",
     "text": [
      "{'the': 127, 'i': 122, 'is': 104, 'to': 101, 'of': 97, 'she': 86, 'and': 79, 'than': 73, 'he': 67, 'they': 63, 'what': 58, 'because': 51, 'you': 51, 'a': 50, 'its': 49, 'do': 39, 'it': 30, 'me': 29, 'good': 27, 'went': 26, 'buy': 26, 'has': 26, 'store': 26, 'grade': 24, 'studied': 24, 'get': 24, 'more': 23, 'like': 20, 'in': 15, 'makes': 15, 'process': 14, 'enjoy': 14, 'something': 14, 'behind': 12, 'believe': 11, 'challenging': 11, 'passion': 9, 'potential': 9, 'truck': 9, 'my': 9, 'moderately': 8, 'proud': 8, 'wisely': 8, 'purpose': 8, 'gives': 8, 'happy': 8, 'that': 8, 'self': 8, 'nowhere': 8, 'love': 8, 'take': 8, 'or': 8, 'sense': 8, 'occasionally': 7, 'risks': 7, 'need': 7, 'laughed': 7, 'usually': 7, 'an': 7, 'new': 7, 'opportunity': 7, 'money': 7, 'foolishly': 6, 'make': 6, 'difference': 6, 'as': 6, 'milk': 6, 'outside': 6, 'police': 6, 'person': 6, 'want': 6, 'drank': 6, 'way': 6, 'created': 6, 'managed': 6, 'im': 6, 'learn': 6, 'grow': 6, 'allows': 6, 'reward': 6, 'met': 5, 'lion': 5, 'sales': 5, 'just': 5, 'flew': 5, 'danced': 5, 'car': 5, 'mouse': 5, 'early': 5, 'judge': 5, 'settled': 5, 'front': 5, 'cat': 5, 'admired': 5, 'officer': 5, 'rarely': 5, 'infused': 5, 'steamed': 5, 'politician': 4, 'hope': 4, 'frequently': 4, 'cried': 4, 'never': 4, 'simmered': 4, 'forgave': 4, 'health': 4, 'sometimes': 4, 'hardly': 4, 'mountain': 4, 'highly': 4, 'yesterday': 4, 'truth': 4, 'ever': 4, 'mourned': 4, 'lawyer': 4, 'sang': 4, 'trained': 4, 'finance': 4, 'fermented': 4, 'everywhere': 4, 'science': 4, 'extremely': 4, 'ate': 4, 'scissors': 4, 'recently': 4, 'colorful': 4, 'walked': 4, 'roasted': 4, 'rights': 4, 'joy': 4, 'justice': 4, 'ran': 4, 'control': 3, 'pitied': 3, 'juice': 3, 'grilled': 3, 'politics': 3, 'bed': 3, 'charity': 3, 'fairness': 3, 'drove': 3, 'logical': 3, 'snake': 3, 'palace': 3, 'lies': 3, 'tea': 3, 'book': 3, 'aggressive': 3, 'lizard': 3, 'feared': 3, 'driven': 3, 'woman': 3, 'theoretical': 3, 'loved': 3, 'castle': 3, 'soon': 3, 'success': 3, 'somewhat': 3, 'enjoyed': 3, 'happily': 3, 'interpretation': 3, 'fried': 3, 'anger': 3, 'concession': 3, 'elephant': 3, 'sailed': 3, 'hypothesis': 3, 'discovery': 3, 'train': 3, 'sentence': 3, 'talked': 3, 'taxi': 3, 'squirrel': 3, 'fear': 3, 'regulations': 3, 'by': 3, 'introduced': 3, 'trustworthiness': 3, 'at': 3, 'sorrow': 3, 'musician': 3, 'baked': 3, 'table': 3, 'nutrition': 3, 'management': 3, 'hate': 3, 'sold': 3, 'quietly': 3, 'today': 3, 'crime': 3, 'rural': 3, 'utterly': 3, 'inside': 3, 'reputation': 3, 'investing': 3, 'ambulance': 3, 'bicycle': 3, 'student': 3, 'last': 2, 'brewed': 2, 'hiked': 2, 'choice': 2, 'guilt': 2, 'sadness': 2, 'tranquil': 2, 'worked': 2, 'life': 2, 'fire': 2, 'hired': 2, 'very': 2, 'prediction': 2, 'island': 2, 'government': 2, 'happiness': 2, 'late': 2, 'rode': 2, 'physical': 2, 'simulation': 2, 'research': 2, 'tomorrow': 2, 'hands': 2, 'artist': 2, 'literary': 2, 'built': 2, 'led': 2, 'marketing': 2, 'satisfied': 2, 'abide': 2, 'chair': 2, 'shook': 2, 'scared': 2, 'pen': 2, 'efficiency': 2, 'often': 2, 'change': 2, 'turquoise': 2, 'phone': 2, 'river': 2, 'sacrifice': 2, 'downstairs': 2, 'depression': 2, 'kindness': 2, 'big': 2, 'policy': 2, 'boat': 2, 'cooked': 2, 'media': 2, 'kissed': 2, 'regret': 2, 'relieved': 2, 'riot': 2, 'erase': 2, 'criticized': 2, 'reform': 2, 'always': 2, 'academic': 2, 'helicopter': 2, 'priority': 2, 'punishment': 2, 'angry': 2, 'surfed': 2, 'creative': 2, 'praise': 2, 'art': 2, '571': 2, 'advertising': 2, 'teacher': 2, 'misunderstand': 2, 'deduction': 2, 'shame': 2, 'evaluation': 2, 'mindfulness': 2, 'language': 2, 'seasoned': 2, 'despair': 2, 'fitness': 2, 'sympathized': 2, 'mercy': 2, 'skied': 2, 'transparency': 2, 'remember': 2, 'laws': 2, 'rat': 2, 'negotiated': 2, 'comply': 2, 'mental': 2, 'pessimistic': 2, 'freedom': 2, 'there': 2, 'reasonable': 2, 'sincere': 2, 'revolution': 2, 'desk': 2, 'social': 2, 'chewy': 2, 'criticism': 2, 'worth': 2, 'excited': 2, 'business': 2, 'pencil': 2, 'know': 2, 'slightly': 2, 'theatrical': 2, 'salty': 2, 'glue': 2, 'practical': 2, 'television': 2, 'salad': 2, 'jumped': 2, 'recklessly': 2, 'rational': 2, 'work': 2, 'travel': 2, 'loudly': 2, 'banana': 2, 'night': 2, 'generosity': 2, 'esteem': 1, 'eliminate': 1, 'beige': 1, '465': 1, 'serene': 1, 'tiger': 1, 'dissent': 1, 'investigate': 1, 'history': 1, 'library': 1, 'light': 1, 'proof': 1, 'awareness': 1, 'black': 1, '151': 1, 'empathy': 1, '364': 1, 'define': 1, 'gold': 1, '995': 1, 'productivity': 1, 'yellow': 1, 'oppression': 1, 'decision': 1, 'coastal': 1, 'completely': 1, 'boycott': 1, 'outshine': 1, '261': 1, '394': 1, 'compare': 1, 'carefully': 1, 'exotic': 1, 'already': 1, 'law': 1, 'compassion': 1, 'realistic': 1, 'bustling': 1, 'agreement': 1, 'small': 1, '551': 1, 'honesty': 1, 'arbitration': 1, '956': 1, 'joyful': 1, 'melancholic': 1, 'plane': 1, 'leisure': 1, 'motorcycle': 1, 'meditation': 1, 'conquer': 1, 'smiled': 1, 'sensible': 1, 'hugged': 1, 'pear': 1, 'dismiss': 1, 'technology': 1, 'frustrated': 1, '660': 1, 'authenticity': 1, 'white': 1, 'sadly': 1, 'loyal': 1, 'data': 1, 'resolved': 1, 'choose': 1, 'disappointed': 1, 'alternatives': 1, 'juicy': 1, 'greatly': 1, '7': 1, 'prevail': 1, 'normally': 1, 'isolated': 1, 'bitter': 1, 'judgment': 1, 'confidence': 1, 'designed': 1, 'exterminate': 1, 'acquit': 1, 'wolf': 1, '946': 1, 'humanity': 1, 'cold': 1, 'relaxation': 1, 'culture': 1, '436': 1, 'discipline': 1, 'country': 1, '385': 1, 'bike': 1, 'assessment': 1, 'blue': 1, 'propose': 1, 'swam': 1, '235': 1, 'bus': 1, 'forest': 1, 'bear': 1, '327': 1, 'feedback': 1, 'apple': 1, 'service': 1, 'strike': 1, 'trade': 1, '388': 1, 'growing': 1, 'purple': 1, 'protest': 1, 'write': 1, 'settlement': 1, 'timid': 1, 'exercise': 1, 'excel': 1, 'peace': 1, 'innovation': 1, 'beat': 1, 'goal': 1, 'commended': 1, 'broken': 1, 'despised': 1, 'optimization': 1, 'boy': 1, 'here': 1, 'tired': 1, 'shiny': 1, 'motivation': 1, 'suggest': 1, '97': 1, 'cherry': 1, 'recreation': 1, 'doctor': 1, 'accept': 1, 'man': 1, 'sit': 1, 'village': 1, 'played': 1, 'philosophical': 1, 'fired': 1, 'orange': 1, 'music': 1, 'brave': 1, 'relations': 1, 'heavy': 1, 'girl': 1, 'public': 1, 'apology': 1, 'slowly': 1, 'sports': 1, 'upstairs': 1, 'climbed': 1, 'pineapple': 1, 'outdo': 1, 'negotiation': 1, 'philanthropy': 1, 'style': 1, 'ship': 1, 'dialect': 1, 'terminator': 1, '976': 1, 'enhance': 1, 'ornate': 1, 'stress': 1, 'fairly': 1, '69': 1, 'petition': 1, 'influence': 1, 'quickly': 1, 'bored': 1, 'understand': 1, 'wellness': 1, '338': 1, '203': 1, 'customer': 1, '671': 1, 'silver': 1, 'accent': 1, 'hated': 1, 'lake': 1, 'genuine': 1, 'dog': 1, 'respected': 1, 'literature': 1, 'apologized': 1, 'injustice': 1, 'organization': 1, 'off': 1, '173': 1, 'image': 1, '695': 1, 'induction': 1, 'school': 1, 'annihilate': 1, 'listened': 1, 'entrepreneurship': 1, 'film': 1, 'remote': 1, 'leadership': 1, 'overpower': 1, 'equality': 1, 'city': 1, 'soup': 1, 'option': 1, 'sweet': 1}\n",
      "Saving True\n"
     ]
    }
   ],
   "source": [
    "if __name__ == \"__main__\":\n",
    "    task1()"
   ]
  },
  {
   "cell_type": "markdown",
   "metadata": {},
   "source": [
    "### Задание 1 (по вариантам)"
   ]
  },
  {
   "cell_type": "markdown",
   "metadata": {},
   "source": [
    "**Задание:**\n",
    "\n",
    "Варианты 5, 15, 25, … \n",
    "Подсчитайте количество, а также долю всех гласных букв.\n"
   ]
  },
  {
   "cell_type": "code",
   "execution_count": 255,
   "metadata": {},
   "outputs": [],
   "source": [
    "# сохранение в файл\n",
    "def save_file(path, list_):\n",
    "    with open(path, 'w', encoding='utf-8') as file:\n",
    "        for item in list_:\n",
    "            file.write(f\"{item}\\n\")\n",
    "    print('Saving True')"
   ]
  },
  {
   "cell_type": "code",
   "execution_count": 256,
   "metadata": {},
   "outputs": [],
   "source": [
    "# подсчет количества гласных\n",
    "def count_vowels(string):\n",
    "    vowels = 'aeiouy'  \n",
    "    count = 0\n",
    "    for char in string:\n",
    "        if char in vowels:\n",
    "            count += 1\n",
    "    return count"
   ]
  },
  {
   "cell_type": "code",
   "execution_count": 257,
   "metadata": {},
   "outputs": [],
   "source": [
    "def by_variants():\n",
    "    path = './55/first_task.txt'\n",
    "    lines = read_file(path)\n",
    "    modified_lines = modify_list(lines)\n",
    "    modified_string = ''\n",
    "    \n",
    "    for word in modified_lines:\n",
    "        modified_string+=word\n",
    "    amount_vowels = count_vowels(modified_string)\n",
    "\n",
    "    return [f'Количество букв в строке: {len(modified_string)}',\n",
    "            f'Количество гласных букв в строке: {amount_vowels}',\n",
    "            f'Доля гласных букв: {(amount_vowels*100)/len(modified_string):.2f} %'\n",
    "            ]"
   ]
  },
  {
   "cell_type": "code",
   "execution_count": 258,
   "metadata": {},
   "outputs": [],
   "source": [
    "def task1_2():\n",
    "    data = by_variants()\n",
    "    save_file('Answers/task1_by_variants.txt',data)"
   ]
  },
  {
   "cell_type": "code",
   "execution_count": 259,
   "metadata": {},
   "outputs": [
    {
     "name": "stdout",
     "output_type": "stream",
     "text": [
      "Saving True\n"
     ]
    }
   ],
   "source": [
    "if __name__ == \"__main__\":\n",
    "   task1_2()"
   ]
  },
  {
   "cell_type": "markdown",
   "metadata": {},
   "source": [
    "## Задание 2"
   ]
  },
  {
   "cell_type": "markdown",
   "metadata": {},
   "source": [
    "\n",
    "Варианты 5, 15, 25, … \n",
    "Операция в рамках одной строки: взятие корня квадратного от каждого положительного значения, а затем целой части от полученной суммы.\n",
    "Операция для полученного столбца: вывод столбца, а также поиск максимального и минимального значения.\n",
    "\n",
    "Формат результата:\n",
    "\n",
    "sum1\n",
    "\n",
    "sum2\n",
    "\n",
    "sum3\n",
    "\n",
    "max_val\n",
    "\n",
    "min_val\n"
   ]
  },
  {
   "cell_type": "code",
   "execution_count": 260,
   "metadata": {},
   "outputs": [],
   "source": [
    "# сохранение в файл\n",
    "def save_file(path, dict_):\n",
    "    with open(path, 'w', encoding='utf-8') as file:\n",
    "        for k, v in dict_.items():\n",
    "            if k == \"sums\":\n",
    "                for value in v:\n",
    "                    file.write(f\"{value}\\n\")\n",
    "            elif k =='max_num':\n",
    "                file.write(f\"\\n{value}\\n\")\n",
    "            elif k =='min_num':\n",
    "                file.write(f\"\\n{value}\\n\")\n",
    "    print('Saving True')"
   ]
  },
  {
   "cell_type": "code",
   "execution_count": 261,
   "metadata": {},
   "outputs": [],
   "source": [
    "def read_csv(path):\n",
    "    with open(path, mode='r', newline='') as file:\n",
    "        reader = csv.reader(file)\n",
    "        csv_data = [row[0] for row in reader]\n",
    "        return csv_data"
   ]
  },
  {
   "cell_type": "code",
   "execution_count": 262,
   "metadata": {},
   "outputs": [],
   "source": [
    "def str_to_int(data):\n",
    "    new_list = list()\n",
    "    for row in data:\n",
    "        number_list_str = row.split()\n",
    "        new_list.append(list(map(int, number_list_str)))\n",
    "    return new_list"
   ]
  },
  {
   "cell_type": "code",
   "execution_count": 263,
   "metadata": {},
   "outputs": [],
   "source": [
    "def get_sqrt_sums(data):\n",
    "    sum_list = list()\n",
    "    for row in data:\n",
    "        positive_sqrt = [math.sqrt(num) for num in row if num > 0]\n",
    "        sum_of_sqrt = round(sum(positive_sqrt))\n",
    "        sum_list.append(sum_of_sqrt)\n",
    "    return sum_list"
   ]
  },
  {
   "cell_type": "code",
   "execution_count": 264,
   "metadata": {},
   "outputs": [
    {
     "name": "stderr",
     "output_type": "stream",
     "text": [
      "<>:2: SyntaxWarning: invalid escape sequence '\\s'\n",
      "<>:2: SyntaxWarning: invalid escape sequence '\\s'\n",
      "C:\\Users\\Вадим\\AppData\\Local\\Temp\\ipykernel_12528\\1674582886.py:2: SyntaxWarning: invalid escape sequence '\\s'\n",
      "  data = read_csv('55\\second_task.txt')\n"
     ]
    }
   ],
   "source": [
    "def task2():\n",
    "    data = read_csv('55\\second_task.txt')\n",
    "    data = str_to_int(data)\n",
    "    result = get_sqrt_sums(data)\n",
    "    min_num = min(result)\n",
    "    max_num = max(result)\n",
    "    result_dict = {\n",
    "        \"sums\": result,\n",
    "        'max_num':max_num,\n",
    "        'min_num':min_num\n",
    "    }\n",
    "    save_file('Answers/task2.txt',result_dict)"
   ]
  },
  {
   "cell_type": "code",
   "execution_count": 265,
   "metadata": {},
   "outputs": [
    {
     "name": "stdout",
     "output_type": "stream",
     "text": [
      "Saving True\n"
     ]
    }
   ],
   "source": [
    "if __name__ == '__main__':\n",
    "    task2()"
   ]
  },
  {
   "cell_type": "markdown",
   "metadata": {},
   "source": [
    "## Задание 3"
   ]
  },
  {
   "cell_type": "markdown",
   "metadata": {},
   "source": [
    "Считайте файл согласно вашему варианту. В строках имеются пропуски, обозначенные «NA» – замените их, рассчитав среднее значение соседних чисел. Проведите фильтрацию данных в рамках каждой строки тем способом, который соответствует вашему варианту, а также результирующую операцию и ее вывод в текстовый файл.\n",
    "\n",
    "5, 15, 25, …\tОставляем значения, кратные 3\n",
    "\n",
    "Формат вывода:\n",
    "\n",
    "Сумма по каждой строке\n"
   ]
  },
  {
   "cell_type": "code",
   "execution_count": 266,
   "metadata": {},
   "outputs": [],
   "source": [
    "# сохранение в файл\n",
    "def save_file(path, list_):\n",
    "    with open(path, 'w', encoding='utf-8') as file:\n",
    "        for item in list_:\n",
    "            file.write(f\"{item}\\n\")\n",
    "    print('Saving True')"
   ]
  },
  {
   "cell_type": "code",
   "execution_count": 267,
   "metadata": {},
   "outputs": [],
   "source": [
    "def read_csv(path):\n",
    "    with open(path, mode='r', newline='') as file:\n",
    "        reader = csv.reader(file)\n",
    "        csv_data = [row[0] for row in reader]\n",
    "        return csv_data"
   ]
  },
  {
   "cell_type": "code",
   "execution_count": 268,
   "metadata": {},
   "outputs": [],
   "source": [
    "def str_to_int(data):\n",
    "    new_list = list()\n",
    "    for row in data:\n",
    "        number_list_str = row.split()\n",
    "        numbers = list()\n",
    "        for index, num in enumerate(number_list_str):\n",
    "            if num == 'N/A':\n",
    "                new_num = (int(number_list_str[index-1])+int(number_list_str[index+1]))/2\n",
    "                numbers.append(new_num)\n",
    "            else:\n",
    "                numbers.append(int(num))\n",
    "        new_list.append(numbers)\n",
    "    return new_list\n"
   ]
  },
  {
   "cell_type": "code",
   "execution_count": 269,
   "metadata": {},
   "outputs": [],
   "source": [
    "def sorted_data(data):\n",
    "    for index, row in enumerate(data):\n",
    "        data[index] = sorted(row, key=lambda x: (x % 3 != 0, x))\n",
    "    return data"
   ]
  },
  {
   "cell_type": "code",
   "execution_count": 270,
   "metadata": {},
   "outputs": [],
   "source": [
    "def get_sum(data):\n",
    "    result = list()\n",
    "    for row in data:\n",
    "        result.append(sum(row))\n",
    "    return result"
   ]
  },
  {
   "cell_type": "code",
   "execution_count": 271,
   "metadata": {},
   "outputs": [],
   "source": [
    "def task3():\n",
    "    data = read_csv('55/third_task.txt')\n",
    "    data = str_to_int(data)\n",
    "    data = sorted_data(data)\n",
    "    result = get_sum(data)\n",
    "    save_file('Answers/task3.txt',result)"
   ]
  },
  {
   "cell_type": "code",
   "execution_count": 272,
   "metadata": {},
   "outputs": [
    {
     "name": "stdout",
     "output_type": "stream",
     "text": [
      "Saving True\n"
     ]
    }
   ],
   "source": [
    "if __name__ == \"__main__\":\n",
    "    task3()"
   ]
  },
  {
   "cell_type": "markdown",
   "metadata": {},
   "source": [
    "## Задание 4"
   ]
  },
  {
   "cell_type": "markdown",
   "metadata": {},
   "source": [
    "Считайте csv файл и выполните с ним определенные действия согласно вашему варианту. Результаты поиска значений (среднее, максимум и минимум) запишите в отдельный файл: каждое число на новой строке. Результаты модификаций исходного файла – в отдельный csv файл\n",
    "\n",
    "\n",
    "Вариант 55\n",
    "1. Удалите из таблицы столбец description\n",
    "2. Найдите среднее арифметическое по столбцу quantity\n",
    "3. Найдите максимум по столбцу quantity\n",
    "4. Найдите минимум по столбцу quantity\n",
    "5. Отфильтруйте значения, взяв только те, у которых category Товары для дома"
   ]
  },
  {
   "cell_type": "code",
   "execution_count": 273,
   "metadata": {},
   "outputs": [],
   "source": [
    "# сохранение в файл\n",
    "def save_file(path, dict_):\n",
    "    with open(path, 'w', encoding='utf-8') as file:\n",
    "        for k, v in dict_.items():\n",
    "            file.write(f\"{k}:{v}\\n\")\n",
    "    print('Saving True')"
   ]
  },
  {
   "cell_type": "code",
   "execution_count": 274,
   "metadata": {},
   "outputs": [],
   "source": [
    "def get_dataframe(path):\n",
    "    dataframe = pd.read_csv(path)\n",
    "    return dataframe"
   ]
  },
  {
   "cell_type": "code",
   "execution_count": 275,
   "metadata": {},
   "outputs": [],
   "source": [
    "def make_task(dataframe):\n",
    "    # 1. Удалите из таблицы столбец description\n",
    "    dataframe.drop('description',axis = 1, inplace = True)\n",
    "    # 2. Найдите среднее арифметическое по столбцу quantity\n",
    "    mean = float(dataframe['quantity'].mean())\n",
    "    # 3. Найдите максимум по столбцу quantity\n",
    "    max_value = int(dataframe['quantity'].max())\n",
    "    # 4. Найдите минимум по столбцу quantity\n",
    "    min_value = int(dataframe['quantity'].min())\n",
    "    # 5. Отфильтруйте значения, взяв только те, у которых category Товары для дома\n",
    "    filtred_data = dataframe[dataframe['category'] == 'Товары для дома']\n",
    "    result_dict = {\n",
    "        'mean': round(mean,2),\n",
    "        'max_value': max_value,\n",
    "        'min_value': min_value,\n",
    "    }\n",
    "    return result_dict, dataframe"
   ]
  },
  {
   "cell_type": "code",
   "execution_count": 276,
   "metadata": {},
   "outputs": [],
   "source": [
    "def task4():\n",
    "    data_file = './55/fourth_task.txt'\n",
    "    dataframe = get_dataframe(data_file)\n",
    "    result_dict, dataframe = make_task(dataframe)\n",
    "    save_file('Answers/task4_params.txt',result_dict)\n",
    "    dataframe.to_csv('Answers/task4_endTable.txt')"
   ]
  },
  {
   "cell_type": "code",
   "execution_count": 277,
   "metadata": {},
   "outputs": [
    {
     "name": "stdout",
     "output_type": "stream",
     "text": [
      "Saving True\n"
     ]
    }
   ],
   "source": [
    "if __name__ == \"__main__\":\n",
    "    task4()"
   ]
  },
  {
   "cell_type": "markdown",
   "metadata": {},
   "source": [
    "## Задание 5"
   ]
  },
  {
   "cell_type": "markdown",
   "metadata": {},
   "source": [
    "Считайте фрагмент html из файла согласно варианту. Извлеките данные из таблицы html. Запишите полученный csv файл."
   ]
  },
  {
   "cell_type": "code",
   "execution_count": 279,
   "metadata": {},
   "outputs": [],
   "source": [
    "def get_dataframe(path):\n",
    "    dataframe = pd.read_html(path, encoding='utf-8')[0]\n",
    "    return dataframe    "
   ]
  },
  {
   "cell_type": "code",
   "execution_count": 280,
   "metadata": {},
   "outputs": [],
   "source": [
    "def task5():\n",
    "    data_file = './55/fifth_task.html'\n",
    "    dataframe = get_dataframe(data_file)\n",
    "    dataframe.to_csv(\"Answers/task5.txt\")"
   ]
  },
  {
   "cell_type": "code",
   "execution_count": 281,
   "metadata": {},
   "outputs": [],
   "source": [
    "if __name__ == \"__main__\":\n",
    "    task5()"
   ]
  },
  {
   "cell_type": "markdown",
   "metadata": {},
   "source": [
    "## Задание 6"
   ]
  },
  {
   "cell_type": "markdown",
   "metadata": {},
   "source": [
    "Найти публичный API, который возвращает JSON с некоторыми данными. Необходимо получить данные в формате JSON, преобразовать в html представление в зависимости от содержания."
   ]
  },
  {
   "cell_type": "code",
   "execution_count": 282,
   "metadata": {},
   "outputs": [],
   "source": [
    "def send_respone(url):\n",
    "    try:\n",
    "        response = requests.get(url)\n",
    "        if response.status_code == 200:\n",
    "            return response.json()\n",
    "        else:\n",
    "            return None\n",
    "    except ConnectionError:\n",
    "        print('Error: connection error')\n",
    "        return None"
   ]
  },
  {
   "cell_type": "code",
   "execution_count": 283,
   "metadata": {},
   "outputs": [],
   "source": [
    "def task6():\n",
    "    url = 'https://pokeapi.co/api/v2/pokemon/'\n",
    "    data = send_respone(url)\n",
    "    df = pd.DataFrame(data['results'])\n",
    "    df.to_html('Answers/task6.html')"
   ]
  },
  {
   "cell_type": "code",
   "execution_count": 284,
   "metadata": {},
   "outputs": [],
   "source": [
    "if __name__ == \"__main__\":\n",
    "    task6()"
   ]
  }
 ],
 "metadata": {
  "kernelspec": {
   "display_name": "Python 3",
   "language": "python",
   "name": "python3"
  },
  "language_info": {
   "codemirror_mode": {
    "name": "ipython",
    "version": 3
   },
   "file_extension": ".py",
   "mimetype": "text/x-python",
   "name": "python",
   "nbconvert_exporter": "python",
   "pygments_lexer": "ipython3",
   "version": "3.12.5"
  }
 },
 "nbformat": 4,
 "nbformat_minor": 2
}
