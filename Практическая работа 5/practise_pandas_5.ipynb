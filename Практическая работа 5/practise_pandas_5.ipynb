{
 "cells": [
  {
   "cell_type": "markdown",
   "metadata": {},
   "source": [
    "# Задание 1"
   ]
  },
  {
   "cell_type": "code",
   "execution_count": 88,
   "metadata": {},
   "outputs": [],
   "source": [
    "import json\n",
    "import pandas as pd"
   ]
  },
  {
   "cell_type": "code",
   "execution_count": 89,
   "metadata": {},
   "outputs": [],
   "source": [
    "def read_json(filepath:str):\n",
    "    with open(filepath,'r',encoding='utf-8') as file:\n",
    "        data = json.load(file)\n",
    "    return data"
   ]
  },
  {
   "cell_type": "code",
   "execution_count": 90,
   "metadata": {},
   "outputs": [],
   "source": [
    "def save_json(filepath: str, df: pd.DataFrame):\n",
    "    data = json.dumps(df.to_dict(orient='records'), ensure_ascii=False)   \n",
    "    with open(filepath, mode='w', encoding='UTF-8') as file:\n",
    "        file.write(data)"
   ]
  },
  {
   "cell_type": "code",
   "execution_count": 91,
   "metadata": {},
   "outputs": [],
   "source": [
    "def create_df(data:json):\n",
    "    return pd.DataFrame(data)"
   ]
  },
  {
   "cell_type": "code",
   "execution_count": 92,
   "metadata": {},
   "outputs": [],
   "source": [
    "def sort_data(df:pd.DataFrame):\n",
    "    df = df.sort_values(by='salary',ascending=False)\n",
    "    return df"
   ]
  },
  {
   "cell_type": "code",
   "execution_count": 93,
   "metadata": {},
   "outputs": [],
   "source": [
    "def filter_data(df:pd.DataFrame):\n",
    "    df = df[df['age']<30]\n",
    "    return df"
   ]
  },
  {
   "cell_type": "code",
   "execution_count": 94,
   "metadata": {},
   "outputs": [],
   "source": [
    "def get_ten_values(df:pd.DataFrame):\n",
    "    jobs = ['Программист','Инженер','Повар']\n",
    "    cities = 'Ереван'\n",
    "    filtered_df = df[(df['city'] == cities) & (df['job'].isin(jobs))]\n",
    "    result_df = filtered_df.sort_values(by='age').head(10)\n",
    "    return result_df\n"
   ]
  },
  {
   "cell_type": "code",
   "execution_count": 95,
   "metadata": {},
   "outputs": [],
   "source": [
    "def difficult_filter(df:pd.DataFrame):\n",
    "    age_min = 25\n",
    "    age_max = 60\n",
    "    year_range = [2019, 2022]\n",
    "\n",
    "    filtered_df = df[\n",
    "        (df['age'].between(age_min, age_max)) &\n",
    "        (df['year'].isin(year_range)) &\n",
    "        ((df['salary'] > 50000) & (df['salary'] <= 75000) | (df['salary'] > 125000) & (df['salary'] < 150000))\n",
    "    ]\n",
    "    return filtered_df"
   ]
  },
  {
   "cell_type": "code",
   "execution_count": 96,
   "metadata": {},
   "outputs": [],
   "source": [
    "def first_task():\n",
    "    filepath = './55/task_1_item.json'\n",
    "    data = read_json(filepath=filepath)\n",
    "    df = create_df(data)\n",
    "    sotred_df = sort_data(df)\n",
    "    save_json('./Answers/sorted_data.json', sotred_df)\n",
    "    filtred_df = filter_data(sotred_df)\n",
    "    save_json('./Answers/filtred_data.json', filtred_df)\n",
    "    ten_values_df = get_ten_values(df)\n",
    "    save_json('./Answers/ten_values_data.json', ten_values_df)\n",
    "    difficult_filtred_df = difficult_filter(df)\n",
    "    save_json('./Answers/difficult_filtred_data.json', difficult_filtred_df)\n",
    "    print('All answers saved in folder ./Answers/')"
   ]
  },
  {
   "cell_type": "code",
   "execution_count": 97,
   "metadata": {},
   "outputs": [
    {
     "name": "stdout",
     "output_type": "stream",
     "text": [
      "All answers saved in folder ./Answers/\n"
     ]
    }
   ],
   "source": [
    "if __name__ == '__main__':\n",
    "    first_task()"
   ]
  },
  {
   "cell_type": "markdown",
   "metadata": {},
   "source": [
    "# Задание 2"
   ]
  },
  {
   "cell_type": "code",
   "execution_count": 139,
   "metadata": {},
   "outputs": [],
   "source": [
    "import json\n",
    "import pandas as pd"
   ]
  },
  {
   "cell_type": "code",
   "execution_count": 140,
   "metadata": {},
   "outputs": [],
   "source": [
    "def get_data(filepath):\n",
    "    data = []\n",
    "    current_dict = {}\n",
    "    \n",
    "    with open(filepath, mode='r', encoding='utf-8') as file:\n",
    "        for line in file:\n",
    "            line = line.strip()\n",
    "            if line == '=====':\n",
    "                if current_dict:\n",
    "                    data.append(current_dict)\n",
    "                    current_dict = {}\n",
    "            else:\n",
    "                try:\n",
    "                    key, value = line.split('::', 1)\n",
    "                    current_dict[key.strip()] = value.strip()\n",
    "                except ValueError:\n",
    "                    print('Error processing line:', line)\n",
    "\n",
    "        if current_dict:\n",
    "            data.append(current_dict)\n",
    "\n",
    "    df = pd.DataFrame(data)\n",
    "    df['salary'] = pd.to_numeric(df['salary'], errors='coerce')\n",
    "    df['age'] = pd.to_numeric(df['age'], errors='coerce')\n",
    "    df['year'] = pd.to_numeric(df['age'], errors='coerce')\n",
    "    return df"
   ]
  },
  {
   "cell_type": "code",
   "execution_count": 141,
   "metadata": {},
   "outputs": [],
   "source": [
    "def create_df(data:json):\n",
    "    return pd.DataFrame(data)"
   ]
  },
  {
   "cell_type": "code",
   "execution_count": 142,
   "metadata": {},
   "outputs": [],
   "source": [
    "def read_json(filepath:str):\n",
    "    with open(filepath,'r',encoding='utf-8') as file:\n",
    "        data = json.load(file)\n",
    "    return data"
   ]
  },
  {
   "cell_type": "code",
   "execution_count": 161,
   "metadata": {},
   "outputs": [],
   "source": [
    "def min_avg_max_salary(df):\n",
    "    min_salary = df['salary'].min()\n",
    "    avg_salary = df['salary'].mean()\n",
    "    max_salary = df['salary'].max()\n",
    "    return float(min_salary), float(avg_salary), float(max_salary)"
   ]
  },
  {
   "cell_type": "code",
   "execution_count": 144,
   "metadata": {},
   "outputs": [],
   "source": [
    "def count_jobs(df):\n",
    "    return df['job'].value_counts()"
   ]
  },
  {
   "cell_type": "code",
   "execution_count": 145,
   "metadata": {},
   "outputs": [],
   "source": [
    "def min_avg_max_salary_by_city(df):\n",
    "    return df.groupby('city')['salary'].agg(['min', 'mean', 'max'])"
   ]
  },
  {
   "cell_type": "code",
   "execution_count": 146,
   "metadata": {},
   "outputs": [],
   "source": [
    "def min_avg_max_salary_by_job(df):\n",
    "    return df.groupby('job')['salary'].agg(['min', 'mean', 'max'])"
   ]
  },
  {
   "cell_type": "code",
   "execution_count": 147,
   "metadata": {},
   "outputs": [],
   "source": [
    "def min_avg_max_age_by_city(df):\n",
    "    return df.groupby('city')['age'].agg(['min', 'mean', 'max'])"
   ]
  },
  {
   "cell_type": "code",
   "execution_count": 148,
   "metadata": {},
   "outputs": [],
   "source": [
    "def min_avg_max_age_by_job(df):\n",
    "    return df.groupby('job')['age'].agg(['min', 'mean', 'max'])"
   ]
  },
  {
   "cell_type": "code",
   "execution_count": 149,
   "metadata": {},
   "outputs": [],
   "source": [
    "def max_salary_at_min_age(df):\n",
    "    min_age = df['age'].min()\n",
    "    return df[df['age'] == min_age]['salary'].max()"
   ]
  },
  {
   "cell_type": "code",
   "execution_count": 150,
   "metadata": {},
   "outputs": [],
   "source": [
    "def min_salary_at_max_age(df):\n",
    "    max_age = df['age'].max()\n",
    "    return df[df['age'] == max_age]['salary'].min()"
   ]
  },
  {
   "cell_type": "code",
   "execution_count": 151,
   "metadata": {},
   "outputs": [],
   "source": [
    "def min_avg_max_age_by_city_with_salary_condition(df):\n",
    "    filtered_df = df[df['salary'] > 50000]\n",
    "    return filtered_df.groupby('city')['age'].agg(['min', 'mean', 'max']).sort_values(by='mean', ascending=False)"
   ]
  },
  {
   "cell_type": "code",
   "execution_count": 152,
   "metadata": {},
   "outputs": [],
   "source": [
    "def min_avg_max_salary_in_ranges(df, age_range1=(18, 25), age_range2=(50, 65)):\n",
    "    filtered_df = df[(df['age'].between(*age_range1)) | (df['age'].between(*age_range2))]\n",
    "    return filtered_df.groupby(['city', 'job'])['salary'].agg(['min', 'mean', 'max'])"
   ]
  },
  {
   "cell_type": "code",
   "execution_count": 153,
   "metadata": {},
   "outputs": [],
   "source": [
    "def arbitrary_query(df, match_condition, group_by, sort_by):\n",
    "    filtered_df = df.query(match_condition)\n",
    "    grouped_df = filtered_df.groupby(group_by).agg(['count', 'mean', 'sum'])\n",
    "    sorted_df = grouped_df.sort_values(by=sort_by, ascending=False)\n",
    "    return sorted_df"
   ]
  },
  {
   "cell_type": "code",
   "execution_count": null,
   "metadata": {},
   "outputs": [],
   "source": [
    "def second_task():\n",
    "    filepath1 = './55/task_1_item.json'\n",
    "    filepath2 = './55/task_2_item.text'\n",
    "    data1 = read_json(filepath1)\n",
    "    df1 = create_df(data1)\n",
    "    df2 = get_data(filepath2)\n",
    "    df = pd.concat([df1,df2],axis=0)\n",
    "    df.to_excel('text.xlsx')\n",
    "    print(\"Минимальная, средняя, максимальная зарплата:\", min_avg_max_salary(df))\n",
    "    print(\"\\nКоличество данных по профессиям:\\n\", count_jobs(df))\n",
    "    print(\"\\nМинимальная, средняя, максимальная зарплата по городам:\\n\", min_avg_max_salary_by_city(df))\n",
    "    print(\"\\nМинимальная, средняя, максимальная зарплата по профессиям:\\n\", min_avg_max_salary_by_job(df))\n",
    "    print(\"\\nМинимальный, средний, максимальный возраст по городам:\\n\", min_avg_max_age_by_city(df))\n",
    "    print(\"\\nМинимальный, средний, максимальный возраст по профессиям:\\n\", min_avg_max_age_by_job(df))\n",
    "    print(\"\\nМаксимальная зарплата при минимальном возрасте:\", max_salary_at_min_age(df))\n",
    "    print(\"\\nМинимальная зарплата при максимальном возрасте:\", min_salary_at_max_age(df))\n",
    "    print(\"\\nМинимальный, средний, максимальный возраст по городам с зарплатой > 50000:\\n\", min_avg_max_age_by_city_with_salary_condition(df))\n",
    "    print(\"\\nМинимальная, средняя, максимальная зарплата в диапазонах:\\n\", min_avg_max_salary_in_ranges(df))\n",
    "\n",
    "    match_condition = \"salary > 50000\"\n",
    "    group_by = 'job'\n",
    "    sort_by = ('salary', 'mean')\n",
    "\n",
    "    result = arbitrary_query(df, match_condition, group_by, sort_by)\n",
    "    print(\"\\nРезультаты произвольного запроса:\\n\", result)\n"
   ]
  },
  {
   "cell_type": "code",
   "execution_count": null,
   "metadata": {},
   "outputs": [],
   "source": [
    "if __name__ == '__main__':\n",
    "    second_task()"
   ]
  },
  {
   "cell_type": "markdown",
   "metadata": {},
   "source": [
    "# Задание 3"
   ]
  },
  {
   "cell_type": "code",
   "execution_count": 183,
   "metadata": {},
   "outputs": [],
   "source": [
    "import json\n",
    "import pandas as pd"
   ]
  },
  {
   "cell_type": "code",
   "execution_count": 184,
   "metadata": {},
   "outputs": [],
   "source": [
    "def get_data_from_json(filepath:str):\n",
    "    with open(filepath,'r',encoding='utf-8') as file:\n",
    "        data = json.load(file)\n",
    "    return data"
   ]
  },
  {
   "cell_type": "code",
   "execution_count": 185,
   "metadata": {},
   "outputs": [],
   "source": [
    "def get_data_from_csv(filepath:str):\n",
    "    df = pd.read_csv(filepath,sep=';')\n",
    "    return df"
   ]
  },
  {
   "cell_type": "code",
   "execution_count": 186,
   "metadata": {},
   "outputs": [],
   "source": [
    "def get_data_from_txt(filepath):\n",
    "    data = []\n",
    "    current_dict = {}\n",
    "    \n",
    "    with open(filepath, mode='r', encoding='utf-8') as file:\n",
    "        for line in file:\n",
    "            line = line.strip()\n",
    "            if line == '=====':\n",
    "                if current_dict:\n",
    "                    data.append(current_dict)\n",
    "                    current_dict = {}\n",
    "            else:\n",
    "                try:\n",
    "                    key, value = line.split('::', 1)\n",
    "                    current_dict[key.strip()] = value.strip()\n",
    "                except ValueError:\n",
    "                    print('Error processing line:', line)\n",
    "\n",
    "        if current_dict:\n",
    "            data.append(current_dict)\n",
    "\n",
    "    df = pd.DataFrame(data)\n",
    "    df['salary'] = pd.to_numeric(df['salary'], errors='coerce')\n",
    "    df['age'] = pd.to_numeric(df['age'], errors='coerce')\n",
    "    df['year'] = pd.to_numeric(df['age'], errors='coerce')\n",
    "    return df"
   ]
  },
  {
   "cell_type": "code",
   "execution_count": 187,
   "metadata": {},
   "outputs": [],
   "source": [
    "def remove_values(df:pd.DataFrame):\n",
    "    return df[(df['salary'] >= 25000) & (df['salary'] <= 175000)]"
   ]
  },
  {
   "cell_type": "code",
   "execution_count": 188,
   "metadata": {},
   "outputs": [],
   "source": [
    "def increase_age(df:pd.DataFrame):\n",
    "    df['age'] += 1\n",
    "    return df"
   ]
  },
  {
   "cell_type": "code",
   "execution_count": 189,
   "metadata": {},
   "outputs": [],
   "source": [
    "def salary_by_job(df:pd.DataFrame, jobs:list):\n",
    "    df.loc[df['job'].isin(jobs), 'salary'] *= 1.05\n",
    "    return df"
   ]
  },
  {
   "cell_type": "code",
   "execution_count": 190,
   "metadata": {},
   "outputs": [],
   "source": [
    "def salary_by_city(df:pd.DataFrame, cities:list):\n",
    "    df.loc[df['city'].isin(cities), 'salary'] *= 1.07\n",
    "    return df"
   ]
  },
  {
   "cell_type": "code",
   "execution_count": 191,
   "metadata": {},
   "outputs": [],
   "source": [
    "def salary_by_condition(df:pd.DataFrame, city:str, jobs:str, age_range:str):\n",
    "    df.loc[\n",
    "        (df['city'] == city) & \n",
    "        (df['job'].isin(jobs)) & \n",
    "        (df['age'].between(*age_range)), \n",
    "        'salary'\n",
    "    ] *= 1.10\n",
    "    return df"
   ]
  },
  {
   "cell_type": "code",
   "execution_count": 192,
   "metadata": {},
   "outputs": [],
   "source": [
    "def remove_by_predicate(df:pd.DataFrame, predicate:str):\n",
    "    return df.query(predicate)"
   ]
  },
  {
   "cell_type": "code",
   "execution_count": 196,
   "metadata": {},
   "outputs": [],
   "source": [
    "def third_task():\n",
    "    filepath = './55/task_3_item.csv'\n",
    "    filepath2 = './55/task_1_item.json'\n",
    "    filepath3 = './55/task_2_item.text'\n",
    "\n",
    "    df1 = get_data_from_csv(filepath)\n",
    "    df2 = pd.DataFrame(get_data_from_json(filepath2))\n",
    "    df3 = get_data_from_txt(filepath3)\n",
    "\n",
    "    df = pd.concat([df1,df2,df3],axis=0)\n",
    "    # Удаление документов по предикату\n",
    "    df = remove_values(df)\n",
    "\n",
    "    # Увеличение возраста на 1\n",
    "    df = increase_age(df)\n",
    "\n",
    "    # Поднятие зарплаты на 5% для выбранных профессий\n",
    "    selected_jobs = ['IT-специалист', 'Врач']\n",
    "    df = salary_by_job(df, selected_jobs)\n",
    "\n",
    "    # Поднятие зарплаты на 7% для выбранных городов\n",
    "    selected_cities = ['Сан-Себастьян', 'Афины']\n",
    "    df = salary_by_city(df, selected_cities)\n",
    "\n",
    "    # Поднятие зарплаты на 10% по сложному предикату\n",
    "    complex_city = 'Тбилиси' \n",
    "    complex_jobs = ['Инженер', 'Менеджер'] \n",
    "    age_range = (30, 50) \n",
    "    df = salary_by_condition(df, complex_city, complex_jobs, age_range)\n",
    "\n",
    "    # Удаление записей по произвольному предикату\n",
    "    custom_predicate = \"age < 30\"  # Замените на ваш предикат\n",
    "    df = remove_by_predicate(df, custom_predicate)\n",
    "\n",
    "    # Вывод результатов\n",
    "    print(df)"
   ]
  },
  {
   "cell_type": "code",
   "execution_count": null,
   "metadata": {},
   "outputs": [],
   "source": [
    "if __name__ == '__main__':\n",
    "    third_task()"
   ]
  },
  {
   "cell_type": "markdown",
   "metadata": {},
   "source": [
    "# Задание 4"
   ]
  },
  {
   "cell_type": "code",
   "execution_count": null,
   "metadata": {},
   "outputs": [],
   "source": [
    "import json\n",
    "import pandas as pd"
   ]
  },
  {
   "cell_type": "code",
   "execution_count": null,
   "metadata": {},
   "outputs": [],
   "source": []
  }
 ],
 "metadata": {
  "kernelspec": {
   "display_name": ".venv",
   "language": "python",
   "name": "python3"
  },
  "language_info": {
   "codemirror_mode": {
    "name": "ipython",
    "version": 3
   },
   "file_extension": ".py",
   "mimetype": "text/x-python",
   "name": "python",
   "nbconvert_exporter": "python",
   "pygments_lexer": "ipython3",
   "version": "3.11.9"
  }
 },
 "nbformat": 4,
 "nbformat_minor": 2
}
